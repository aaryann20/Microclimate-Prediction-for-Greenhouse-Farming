{
 "cells": [
  {
   "cell_type": "markdown",
   "metadata": {},
   "source": [
    "# Exploratory Data Analysis - Microclimate Prediction\n",
    "\n",
    "This notebook provides exploratory data analysis for the greenhouse microclimate dataset."
   ]
  },
  {
   "cell_type": "code",
   "execution_count": null,
   "metadata": {},
   "outputs": [],
   "source": [
    "import pandas as pd\n",
    "import numpy as np\n",
    "import matplotlib.pyplot as plt\n",
    "import seaborn as sns\n",
    "from pathlib import Path\n",
    "\n",
    "# Set style\n",
    "plt.style.use('default')\n",
    "sns.set_palette('husl')\n",
    "\n",
    "# Load data\n",
    "data_path = Path('../data/train.csv')\n",
    "df = pd.read_csv(data_path)\n",
    "df['timestamp'] = pd.to_datetime(df['timestamp'])\n",
    "\n",
    "print(f\"Dataset shape: {df.shape}\")\n",
    "print(f\"Date range: {df['timestamp'].min()} to {df['timestamp'].max()}\")"
   ]
  },
  {
   "cell_type": "code",
   "execution_count": null,
   "metadata": {},
   "outputs": [],
   "source": [
    "# Basic statistics\n",
    "print(\"Dataset Info:\")\n",
    "print(df.info())\n",
    "print(\"\\nBasic Statistics:\")\n",
    "print(df.describe())"
   ]
  },
  {
   "cell_type": "code",
   "execution_count": null,
   "metadata": {},
   "outputs": [],
   "source": [
    "# Time series plots\n",
    "fig, axes = plt.subplots(3, 1, figsize=(15, 12))\n",
    "\n",
    "# Temperature over time\n",
    "axes[0].plot(df['timestamp'], df['temperature'], color='red', alpha=0.7)\n",
    "axes[0].set_title('Temperature Over Time')\n",
    "axes[0].set_ylabel('Temperature (°C)')\n",
    "axes[0].grid(True, alpha=0.3)\n",
    "\n",
    "# Humidity over time\n",
    "axes[1].plot(df['timestamp'], df['humidity'], color='blue', alpha=0.7)\n",
    "axes[1].set_title('Humidity Over Time')\n",
    "axes[1].set_ylabel('Humidity (%)')\n",
    "axes[1].grid(True, alpha=0.3)\n",
    "\n",
    "# Light intensity over time\n",
    "axes[2].plot(df['timestamp'], df['light_intensity'], color='orange', alpha=0.7)\n",
    "axes[2].set_title('Light Intensity Over Time')\n",
    "axes[2].set_ylabel('Light Intensity (Lux)')\n",
    "axes[2].set_xlabel('Time')\n",
    "axes[2].grid(True, alpha=0.3)\n",
    "\n",
    "plt.tight_layout()\n",
    "plt.show()"
   ]
  },
  {
   "cell_type": "code",
   "execution_count": null,
   "metadata": {},
   "outputs": [],
   "source": [
    "# Correlation analysis\n",
    "numeric_cols = ['temperature', 'humidity', 'light_intensity', 'co2_level', 'soil_moisture', 'air_pressure', 'wind_speed']\n",
    "correlation_matrix = df[numeric_cols].corr()\n",
    "\n",
    "plt.figure(figsize=(10, 8))\n",
    "sns.heatmap(correlation_matrix, annot=True, cmap='coolwarm', center=0, \n",
    "            square=True, linewidths=0.5)\n",
    "plt.title('Correlation Matrix of Environmental Variables')\n",
    "plt.tight_layout()\n",
    "plt.show()"
   ]
  },
  {
   "cell_type": "code",
   "execution_count": null,
   "metadata": {},
   "outputs": [],
   "source": [
    "# Distribution plots\n",
    "fig, axes = plt.subplots(2, 4, figsize=(20, 10))\n",
    "axes = axes.ravel()\n",
    "\n",
    "for i, col in enumerate(numeric_cols):\n",
    "    axes[i].hist(df[col], bins=20, alpha=0.7, edgecolor='black')\n",
    "    axes[i].set_title(f'Distribution of {col}')\n",
    "    axes[i].set_xlabel(col)\n",
    "    axes[i].set_ylabel('Frequency')\n",
    "    axes[i].grid(True, alpha=0.3)\n",
    "\n",
    "# Remove empty subplot\n",
    "fig.delaxes(axes[7])\n",
    "plt.tight_layout()\n",
    "plt.show()"
   ]
  },
  {
   "cell_type": "code",
   "execution_count": null,
   "metadata": {},
   "outputs": [],
   "source": [
    "# Daily patterns\n",
    "df['hour'] = df['timestamp'].dt.hour\n",
    "\n",
    "fig, axes = plt.subplots(1, 3, figsize=(18, 5))\n",
    "\n",
    "# Temperature by hour\n",
    "hourly_temp = df.groupby('hour')['temperature'].mean()\n",
    "axes[0].plot(hourly_temp.index, hourly_temp.values, marker='o', color='red')\n",
    "axes[0].set_title('Average Temperature by Hour')\n",
    "axes[0].set_xlabel('Hour of Day')\n",
    "axes[0].set_ylabel('Temperature (°C)')\n",
    "axes[0].grid(True, alpha=0.3)\n",
    "\n",
    "# Humidity by hour\n",
    "hourly_humidity = df.groupby('hour')['humidity'].mean()\n",
    "axes[1].plot(hourly_humidity.index, hourly_humidity.values, marker='o', color='blue')\n",
    "axes[1].set_title('Average Humidity by Hour')\n",
    "axes[1].set_xlabel('Hour of Day')\n",
    "axes[1].set_ylabel('Humidity (%)')\n",
    "axes[1].grid(True, alpha=0.3)\n",
    "\n",
    "# Light intensity by hour\n",
    "hourly_light = df.groupby('hour')['light_intensity'].mean()\n",
    "axes[2].plot(hourly_light.index, hourly_light.values, marker='o', color='orange')\n",
    "axes[2].set_title('Average Light Intensity by Hour')\n",
    "axes[2].set_xlabel('Hour of Day')\n",
    "axes[2].set_ylabel('Light Intensity (Lux)')\n",
    "axes[2].grid(True, alpha=0.3)\n",
    "\n",
    "plt.tight_layout()\n",
    "plt.show()"
   ]
  },
  {
   "cell_type": "markdown",
   "metadata": {},
   "source": [
    "## Key Insights\n",
    "\n",
    "1. **Temperature Patterns**: Shows clear daily cycles with peaks during midday hours\n",
    "2. **Humidity Relationship**: Inversely correlated with temperature as expected\n",
    "3. **Light Intensity**: Strong daily pattern following natural sunlight cycles\n",
    "4. **Correlations**: Strong relationships between environmental variables suggest good predictability\n",
    "\n",
    "These patterns indicate that the data is suitable for time-series prediction models."
   ]
  }
 ],
 "metadata": {
  "kernelspec": {
   "display_name": "Python 3",
   "language": "python",
   "name": "python3"
  },
  "language_info": {
   "codemirror_mode": {
    "name": "ipython",
    "version": 3
   },
   "file_extension": ".py",
   "mimetype": "text/x-python",
   "name": "python",
   "nbconvert_exporter": "python",
   "pygments_lexer": "ipython3",
   "version": "3.8.5"
  }
 },
 "nbformat": 4,
 "nbformat_minor": 4
}